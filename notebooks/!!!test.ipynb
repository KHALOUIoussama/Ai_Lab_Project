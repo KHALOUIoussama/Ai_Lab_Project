{
 "cells": [
  {
   "metadata": {
    "ExecuteTime": {
     "end_time": "2024-06-26T17:19:12.457724Z",
     "start_time": "2024-06-26T17:19:10.034617Z"
    }
   },
   "cell_type": "code",
   "source": [
    "%load_ext autoreload\n",
    "%autoreload 2\n",
    "%run ../draw_functions.py\n",
    "%run ../kstest.py"
   ],
   "id": "2503d8f63f494007",
   "outputs": [],
   "execution_count": 2
  },
  {
   "metadata": {
    "ExecuteTime": {
     "end_time": "2024-06-26T17:19:12.764107Z",
     "start_time": "2024-06-26T17:19:12.458760Z"
    }
   },
   "cell_type": "code",
   "source": [
    "import numpy as np\n",
    "from sqlalchemy import text\n",
    "from sqlalchemy.engine.url import URL\n",
    "from sqlalchemy import create_engine\n",
    "import pandas as pd"
   ],
   "id": "611a36eb97d75271",
   "outputs": [],
   "execution_count": 3
  },
  {
   "metadata": {
    "ExecuteTime": {
     "end_time": "2024-06-26T17:19:12.951917Z",
     "start_time": "2024-06-26T17:19:12.765110Z"
    }
   },
   "cell_type": "code",
   "source": [
    "conn_url = URL.create(drivername='mssql+pyodbc',\n",
    "                      host='sqlmelpjol',\n",
    "                      database='Enterprise',\n",
    "                      query={\n",
    "                          \"driver\":\"ODBC Driver 17 for SQL Server\",\n",
    "                          \"TrustServerCertificate\": \"yes\",\n",
    "                          \"authentication\": \"ActiveDirectoryIntegrated\"\n",
    "                      }\n",
    "                      )\n",
    "\n",
    "eng = create_engine(conn_url)\n",
    "conn = eng.connect()"
   ],
   "id": "8b359fb1eb150f0",
   "outputs": [],
   "execution_count": 4
  },
  {
   "metadata": {
    "ExecuteTime": {
     "end_time": "2024-06-26T17:24:24.975208Z",
     "start_time": "2024-06-26T17:20:51.476016Z"
    }
   },
   "cell_type": "code",
   "source": [
    "with open(r'..\\The_script.sql', 'r') as file:\n",
    "    sql_query = file.read()\n",
    "\n",
    "with eng.begin() as con:\n",
    "    query = text(sql_query)\n",
    "    df_data2 = pd.read_sql_query(query, conn)"
   ],
   "id": "63ec4b4539ee3c47",
   "outputs": [],
   "execution_count": 5
  },
  {
   "metadata": {
    "ExecuteTime": {
     "end_time": "2024-06-26T22:42:50.145325Z",
     "start_time": "2024-06-26T19:02:07.078404Z"
    }
   },
   "cell_type": "code",
   "source": [
    "# Create a new column in df_data with default value of NaN\n",
    "df_data2['fitted_slope'] = np.nan\n",
    "\n",
    "for sample in df_data2['Sample_Code'].unique():\n",
    "    df_sample = df_data2[df_data2['Sample_Code'] == sample]\n",
    "    \n",
    "    z1 = np.polyfit(df_sample['xtime'], df_sample['slope'], 3)\n",
    "    p1 = np.poly1d(z1)\n",
    "    \n",
    "    # Update the 'fitted_slope' in df_data for the current sample\n",
    "    df_data2.loc[df_data2['Sample_Code'] == sample, 'fitted_slope'] = p1(df_sample['xtime'])"
   ],
   "id": "9611caef4a13374",
   "outputs": [],
   "execution_count": 8
  },
  {
   "metadata": {
    "ExecuteTime": {
     "end_time": "2024-06-26T22:44:23.999485Z",
     "start_time": "2024-06-26T22:42:50.149298Z"
    }
   },
   "cell_type": "code",
   "source": [
    "# I want a new dataframe with three columns: OrderNo, std_dev_batch, std_dev_sample\n",
    "df_std_dev = pd.DataFrame(columns=['OrderNo', 'std_dev_sample'])\n",
    "for OrderNo in df_data2['OrderNo'].unique():\n",
    "    # Trouver le xtime correspondant au max de la pente pour chaque groupe\n",
    "    df_order = df_data2[df_data2['OrderNo'] == OrderNo]\n",
    "    \n",
    "    max_slope_sample_xtime = df_order.loc[df_order.groupby('Sample_Code')['fitted_slope'].idxmax()][['Batch', 'xtime']].set_index('Batch')['xtime']\n",
    "    \n",
    "    std_dev_sample = round(np.std(max_slope_sample_xtime)*1000,2)\n",
    "    \n",
    "    df_std_dev.loc[len(df_std_dev)] = [OrderNo, std_dev_sample]"
   ],
   "id": "8b99df022db1c658",
   "outputs": [],
   "execution_count": 9
  },
  {
   "metadata": {
    "ExecuteTime": {
     "end_time": "2024-06-26T22:44:24.120466Z",
     "start_time": "2024-06-26T22:44:24.001502Z"
    }
   },
   "cell_type": "code",
   "source": "df_std_dev",
   "id": "3f3c265e537eff7c",
   "outputs": [
    {
     "data": {
      "text/plain": [
       "             OrderNo  std_dev_sample\n",
       "0    MX2240527189601            3.09\n",
       "1     MX224031409701           15.70\n",
       "2    MX124010718HY01           16.04\n",
       "3    MX224021813ZD01            1.90\n",
       "4    MX224032917GQ01            8.47\n",
       "..               ...             ...\n",
       "820   MX22401301QZ01            3.72\n",
       "821  MX324021914YE01           10.98\n",
       "822  MX324060521C401            9.75\n",
       "823  MX324011214EV01            4.39\n",
       "824  MX3240311147S01           10.11\n",
       "\n",
       "[825 rows x 2 columns]"
      ],
      "text/html": [
       "<div>\n",
       "<style scoped>\n",
       "    .dataframe tbody tr th:only-of-type {\n",
       "        vertical-align: middle;\n",
       "    }\n",
       "\n",
       "    .dataframe tbody tr th {\n",
       "        vertical-align: top;\n",
       "    }\n",
       "\n",
       "    .dataframe thead th {\n",
       "        text-align: right;\n",
       "    }\n",
       "</style>\n",
       "<table border=\"1\" class=\"dataframe\">\n",
       "  <thead>\n",
       "    <tr style=\"text-align: right;\">\n",
       "      <th></th>\n",
       "      <th>OrderNo</th>\n",
       "      <th>std_dev_sample</th>\n",
       "    </tr>\n",
       "  </thead>\n",
       "  <tbody>\n",
       "    <tr>\n",
       "      <th>0</th>\n",
       "      <td>MX2240527189601</td>\n",
       "      <td>3.09</td>\n",
       "    </tr>\n",
       "    <tr>\n",
       "      <th>1</th>\n",
       "      <td>MX224031409701</td>\n",
       "      <td>15.70</td>\n",
       "    </tr>\n",
       "    <tr>\n",
       "      <th>2</th>\n",
       "      <td>MX124010718HY01</td>\n",
       "      <td>16.04</td>\n",
       "    </tr>\n",
       "    <tr>\n",
       "      <th>3</th>\n",
       "      <td>MX224021813ZD01</td>\n",
       "      <td>1.90</td>\n",
       "    </tr>\n",
       "    <tr>\n",
       "      <th>4</th>\n",
       "      <td>MX224032917GQ01</td>\n",
       "      <td>8.47</td>\n",
       "    </tr>\n",
       "    <tr>\n",
       "      <th>...</th>\n",
       "      <td>...</td>\n",
       "      <td>...</td>\n",
       "    </tr>\n",
       "    <tr>\n",
       "      <th>820</th>\n",
       "      <td>MX22401301QZ01</td>\n",
       "      <td>3.72</td>\n",
       "    </tr>\n",
       "    <tr>\n",
       "      <th>821</th>\n",
       "      <td>MX324021914YE01</td>\n",
       "      <td>10.98</td>\n",
       "    </tr>\n",
       "    <tr>\n",
       "      <th>822</th>\n",
       "      <td>MX324060521C401</td>\n",
       "      <td>9.75</td>\n",
       "    </tr>\n",
       "    <tr>\n",
       "      <th>823</th>\n",
       "      <td>MX324011214EV01</td>\n",
       "      <td>4.39</td>\n",
       "    </tr>\n",
       "    <tr>\n",
       "      <th>824</th>\n",
       "      <td>MX3240311147S01</td>\n",
       "      <td>10.11</td>\n",
       "    </tr>\n",
       "  </tbody>\n",
       "</table>\n",
       "<p>825 rows × 2 columns</p>\n",
       "</div>"
      ]
     },
     "execution_count": 10,
     "metadata": {},
     "output_type": "execute_result"
    }
   ],
   "execution_count": 10
  }
 ],
 "metadata": {
  "kernelspec": {
   "display_name": "Python 3",
   "language": "python",
   "name": "python3"
  },
  "language_info": {
   "codemirror_mode": {
    "name": "ipython",
    "version": 2
   },
   "file_extension": ".py",
   "mimetype": "text/x-python",
   "name": "python",
   "nbconvert_exporter": "python",
   "pygments_lexer": "ipython2",
   "version": "2.7.6"
  }
 },
 "nbformat": 4,
 "nbformat_minor": 5
}
