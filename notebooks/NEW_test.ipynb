{
 "cells": [
  {
   "metadata": {
    "ExecuteTime": {
     "end_time": "2024-06-27T18:07:47.559187Z",
     "start_time": "2024-06-27T18:07:45.880198Z"
    }
   },
   "cell_type": "code",
   "source": [
    "%load_ext autoreload\n",
    "%autoreload 2\n",
    "%run ../draw_functions.py\n",
    "%run ../kstest.py\n",
    "%run ../utils.py"
   ],
   "id": "2503d8f63f494007",
   "outputs": [],
   "execution_count": 1
  },
  {
   "metadata": {
    "ExecuteTime": {
     "end_time": "2024-06-27T18:07:47.611147Z",
     "start_time": "2024-06-27T18:07:47.561184Z"
    }
   },
   "cell_type": "code",
   "source": "from utils import *",
   "id": "611a36eb97d75271",
   "outputs": [],
   "execution_count": 2
  },
  {
   "metadata": {
    "ExecuteTime": {
     "end_time": "2024-06-27T18:10:42.335706Z",
     "start_time": "2024-06-27T18:07:47.611147Z"
    }
   },
   "cell_type": "code",
   "source": "df_data2 = setup('sqlmelpjol', r'..\\Script_bizarre.sql')",
   "id": "46dae53286270d0d",
   "outputs": [],
   "execution_count": 3
  },
  {
   "metadata": {
    "ExecuteTime": {
     "end_time": "2024-06-27T21:24:16.263579Z",
     "start_time": "2024-06-27T19:51:29.051621Z"
    }
   },
   "cell_type": "code",
   "source": [
    "df_02_08 = df_data2[(df_data2['xtime'] >= 0.2) & (df_data2['xtime'] <= 0.8)].copy()\n",
    "\n",
    "df_02_08 = add_fitted_slope(df_02_08)"
   ],
   "id": "9611caef4a13374",
   "outputs": [],
   "execution_count": 5
  },
  {
   "metadata": {
    "ExecuteTime": {
     "end_time": "2024-06-27T21:24:54.634833Z",
     "start_time": "2024-06-27T21:24:16.264900Z"
    }
   },
   "cell_type": "code",
   "source": [
    "df_results = df_distance(df_02_08)\n",
    "df_results"
   ],
   "id": "9edf22c8225ec94e",
   "outputs": [
    {
     "name": "stderr",
     "output_type": "stream",
     "text": [
      "C:\\Users\\510215\\PycharmProjects\\Ai_Lab_Project\\utils.py:82: FutureWarning: The behavior of DataFrame concatenation with empty or all-NA entries is deprecated. In a future version, this will no longer exclude empty or all-NA columns when determining the result dtypes. To retain the old behavior, exclude the relevant entries before the concat operation.\n",
      "  df_results = pd.concat([df_results, df_temp], ignore_index=True)\n"
     ]
    },
    {
     "data": {
      "text/plain": [
       "             OrderNo   Distance\n",
       "0     MX22405086ZK01  16.479749\n",
       "1    MX224061110G601  13.840605\n",
       "2     MX22401175KT01  12.133907\n",
       "3     MX12401129LD01  11.341573\n",
       "4    MX2240223181001   7.911715\n",
       "..               ...        ...\n",
       "492   MX32404044IV01 -20.000000\n",
       "493  MX3240511220Q01 -20.000000\n",
       "494   MX224051150V01 -20.000000\n",
       "495  MX324060812CP01 -20.000000\n",
       "496  MX324042214RO01 -20.000000\n",
       "\n",
       "[498 rows x 2 columns]"
      ],
      "text/html": [
       "<div>\n",
       "<style scoped>\n",
       "    .dataframe tbody tr th:only-of-type {\n",
       "        vertical-align: middle;\n",
       "    }\n",
       "\n",
       "    .dataframe tbody tr th {\n",
       "        vertical-align: top;\n",
       "    }\n",
       "\n",
       "    .dataframe thead th {\n",
       "        text-align: right;\n",
       "    }\n",
       "</style>\n",
       "<table border=\"1\" class=\"dataframe\">\n",
       "  <thead>\n",
       "    <tr style=\"text-align: right;\">\n",
       "      <th></th>\n",
       "      <th>OrderNo</th>\n",
       "      <th>Distance</th>\n",
       "    </tr>\n",
       "  </thead>\n",
       "  <tbody>\n",
       "    <tr>\n",
       "      <th>0</th>\n",
       "      <td>MX22405086ZK01</td>\n",
       "      <td>16.479749</td>\n",
       "    </tr>\n",
       "    <tr>\n",
       "      <th>1</th>\n",
       "      <td>MX224061110G601</td>\n",
       "      <td>13.840605</td>\n",
       "    </tr>\n",
       "    <tr>\n",
       "      <th>2</th>\n",
       "      <td>MX22401175KT01</td>\n",
       "      <td>12.133907</td>\n",
       "    </tr>\n",
       "    <tr>\n",
       "      <th>3</th>\n",
       "      <td>MX12401129LD01</td>\n",
       "      <td>11.341573</td>\n",
       "    </tr>\n",
       "    <tr>\n",
       "      <th>4</th>\n",
       "      <td>MX2240223181001</td>\n",
       "      <td>7.911715</td>\n",
       "    </tr>\n",
       "    <tr>\n",
       "      <th>...</th>\n",
       "      <td>...</td>\n",
       "      <td>...</td>\n",
       "    </tr>\n",
       "    <tr>\n",
       "      <th>492</th>\n",
       "      <td>MX32404044IV01</td>\n",
       "      <td>-20.000000</td>\n",
       "    </tr>\n",
       "    <tr>\n",
       "      <th>493</th>\n",
       "      <td>MX3240511220Q01</td>\n",
       "      <td>-20.000000</td>\n",
       "    </tr>\n",
       "    <tr>\n",
       "      <th>494</th>\n",
       "      <td>MX224051150V01</td>\n",
       "      <td>-20.000000</td>\n",
       "    </tr>\n",
       "    <tr>\n",
       "      <th>495</th>\n",
       "      <td>MX324060812CP01</td>\n",
       "      <td>-20.000000</td>\n",
       "    </tr>\n",
       "    <tr>\n",
       "      <th>496</th>\n",
       "      <td>MX324042214RO01</td>\n",
       "      <td>-20.000000</td>\n",
       "    </tr>\n",
       "  </tbody>\n",
       "</table>\n",
       "<p>498 rows × 2 columns</p>\n",
       "</div>"
      ]
     },
     "execution_count": 6,
     "metadata": {},
     "output_type": "execute_result"
    }
   ],
   "execution_count": 6
  }
 ],
 "metadata": {
  "kernelspec": {
   "display_name": "Python 3",
   "language": "python",
   "name": "python3"
  },
  "language_info": {
   "codemirror_mode": {
    "name": "ipython",
    "version": 2
   },
   "file_extension": ".py",
   "mimetype": "text/x-python",
   "name": "python",
   "nbconvert_exporter": "python",
   "pygments_lexer": "ipython2",
   "version": "2.7.6"
  }
 },
 "nbformat": 4,
 "nbformat_minor": 5
}
